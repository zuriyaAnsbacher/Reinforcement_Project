{
  "nbformat": 4,
  "nbformat_minor": 0,
  "metadata": {
    "colab": {
      "name": "RL_Akiva_Zuriya_HardCore",
      "private_outputs": true,
      "provenance": [],
      "collapsed_sections": [
        "u-YH3GLIn9Yb",
        "Zm0fUcbMocjy",
        "51DbXN8tuK4B",
        "HC2jo1tEoufB",
        "SzdnzJpPolg1"
      ]
    },
    "kernelspec": {
      "name": "python3",
      "display_name": "Python 3"
    },
    "language_info": {
      "name": "python"
    },
    "accelerator": "GPU"
  },
  "cells": [
    {
      "cell_type": "markdown",
      "source": [
        "<h1><center><b>REINFORCEMENT LEARNING</b></center></h1>\n",
        "<h1><center><b>Final Project - Part 2</b></center></h1>"
      ],
      "metadata": {
        "id": "D4AAP02mngVM"
      }
    },
    {
      "cell_type": "markdown",
      "source": [
        "<h3><center>Bipedal Walker HardCore v3</center></h3>\n"
      ],
      "metadata": {
        "id": "huk05soannIR"
      }
    },
    {
      "cell_type": "markdown",
      "source": [
        "Names:  \n",
        "<font color='red'>\n",
        "Zuriya Ansbacher ID. 208532515  \n",
        "Akiva Bruno Melka ID. 332629393  \n",
        "</font>"
      ],
      "metadata": {
        "id": "HxsFx5hIn2eA"
      }
    },
    {
      "cell_type": "markdown",
      "source": [
        "https://github.com/zuriyaAnsbacher/Reinforcement_Project"
      ],
      "metadata": {
        "id": "mRT2LLMdpGUI"
      }
    },
    {
      "cell_type": "markdown",
      "source": [
        "# **1. Install Environment**"
      ],
      "metadata": {
        "id": "u-YH3GLIn9Yb"
      }
    },
    {
      "cell_type": "code",
      "source": [
        "!sudo apt-get update\n",
        "!pip install gym pyvirtualdisplay > /dev/null 2>&1\n",
        "!apt-get install -y xvfb python-opengl ffmpeg > /dev/null 2>&1\n",
        "!apt-get update > /dev/null 2>&1\n",
        "!apt-get install cmake > /dev/null 2>&1\n",
        "!pip install --upgrade setuptools 2>&1\n",
        "!pip install ez_setup > /dev/null 2>&1\n",
        "!pip install gym[atari] > /dev/null 2>&1\n",
        "\n",
        "import gym\n",
        "from gym.wrappers import Monitor\n",
        "import glob\n",
        "import io\n",
        "import base64\n",
        "from IPython.display import HTML\n",
        "from pyvirtualdisplay import Display\n",
        "from IPython import display as ipythondisplay"
      ],
      "metadata": {
        "id": "ARvNjBBXyBgV"
      },
      "execution_count": null,
      "outputs": []
    },
    {
      "cell_type": "code",
      "source": [
        "display = Display(visible=0, size=(1400, 900))\n",
        "display.start()\n",
        "\n",
        "\"\"\"\n",
        "Utility functions to enable video recording of gym environment \n",
        "and displaying it.\n",
        "To enable video, just do \"env = wrap_env(env)\"\"\n",
        "\"\"\"\n",
        "\n",
        "def show_video():\n",
        "  mp4list = glob.glob('video/*.mp4')\n",
        "  if len(mp4list) > 0:\n",
        "    mp4 = mp4list[0]\n",
        "    video = io.open(mp4, 'r+b').read()\n",
        "    encoded = base64.b64encode(video)\n",
        "    ipythondisplay.display(HTML(data='''<video alt=\"test\" autoplay \n",
        "                loop controls style=\"height: 400px;\">\n",
        "                <source src=\"data:video/mp4;base64,{0}\" type=\"video/mp4\" />\n",
        "             </video>'''.format(encoded.decode('ascii'))))\n",
        "  else: \n",
        "    print(\"Could not find video\")\n",
        "    \n",
        "\n",
        "def wrap_env(env):\n",
        "  env = Monitor(env, './video', force=True)\n",
        "  return env"
      ],
      "metadata": {
        "id": "9hHXzQWnyCPI"
      },
      "execution_count": null,
      "outputs": []
    },
    {
      "cell_type": "code",
      "source": [
        "# This code creates a virtual display to draw game images on. \n",
        "# If you are running locally, just ignore it\n",
        "import os\n",
        "if type(os.environ.get(\"DISPLAY\")) is not str or len(os.environ.get(\"DISPLAY\"))==0:\n",
        "    !bash ../xvfb start\n",
        "    %env DISPLAY=:1"
      ],
      "metadata": {
        "id": "UMhGWWePyGEt"
      },
      "execution_count": null,
      "outputs": []
    },
    {
      "cell_type": "code",
      "source": [
        "!apt-get install x11-utils > /dev/null 2>&1 \n",
        "!pip install pyglet > /dev/null 2>&1 \n",
        "!apt-get install -y xvfb python-opengl > /dev/null 2>&1\n",
        "import gym\n",
        "import numpy as np\n",
        "import matplotlib.pyplot as plt\n",
        "from IPython import display as ipythondisplay\n",
        "!pip install Box2d"
      ],
      "metadata": {
        "id": "flx7qtaPyH-k"
      },
      "execution_count": null,
      "outputs": []
    },
    {
      "cell_type": "markdown",
      "source": [
        "# **2. Import Libraries**"
      ],
      "metadata": {
        "id": "Zm0fUcbMocjy"
      }
    },
    {
      "cell_type": "code",
      "execution_count": null,
      "metadata": {
        "id": "aodBFt3hvpPg"
      },
      "outputs": [],
      "source": [
        "import torch\n",
        "import torch.nn as nn\n",
        "import torch.nn.functional as F\n",
        "from collections import namedtuple, deque\n",
        "import torch.optim as optim\n",
        "import random\n",
        "%matplotlib inline \n",
        "import time\n",
        "from statistics import mean"
      ]
    },
    {
      "cell_type": "markdown",
      "source": [
        "# **3. Models**"
      ],
      "metadata": {
        "id": "51DbXN8tuK4B"
      }
    },
    {
      "cell_type": "code",
      "source": [
        "class Actor(nn.Module):\n",
        "    def __init__(self, state_size, action_size, seed, fc_units=400, fc1_units=300):\n",
        "        super(Actor, self).__init__()\n",
        "        self.seed = torch.manual_seed(seed)\n",
        "        self.fc1 = nn.Linear(state_size, fc_units)\n",
        "        self.fc2 = nn.Linear(fc_units, fc1_units)\n",
        "        self.fc3 = nn.Linear(fc1_units, action_size)\n",
        "\n",
        "    def forward(self, state):\n",
        "        x = F.relu(self.fc1(state))\n",
        "        x = F.relu(self.fc2(x))\n",
        "        return F.torch.tanh(self.fc3(x))\n",
        "  \n",
        "class Critic(nn.Module):\n",
        "    def __init__(self, state_size, action_size, seed, fc1_units=400, fc2_units=300):\n",
        "        super(Critic, self).__init__()\n",
        "        self.seed = torch.manual_seed(seed)\n",
        "\n",
        "        # Q1 architecture\n",
        "        self.l1 = nn.Linear(state_size + action_size, fc1_units)\n",
        "        self.l2 = nn.Linear(fc1_units, fc2_units)\n",
        "        self.l3 = nn.Linear(fc2_units, 1)\n",
        "\n",
        "        # Q2 architecture\n",
        "        self.l4 = nn.Linear(state_size + action_size, fc1_units)\n",
        "        self.l5 = nn.Linear(fc1_units, fc2_units)\n",
        "        self.l6 = nn.Linear(fc2_units, 1)\n",
        "\n",
        "    def forward(self, state, action):\n",
        "        \"\"\"Build a critic (value) network that maps (state, action) pairs -> Q-values.\"\"\"\n",
        "        xa = torch.cat([state, action], 1)\n",
        "\n",
        "        x1 = F.relu(self.l1(xa))\n",
        "        x1 = F.relu(self.l2(x1))\n",
        "        x1 = self.l3(x1)\n",
        "\n",
        "        x2 = F.relu(self.l4(xa))\n",
        "        x2 = F.relu(self.l5(x2))\n",
        "        x2 = self.l6(x2)\n",
        "\n",
        "        return x1, x2\n",
        "\n",
        "\n",
        "class SysModel(nn.Module):\n",
        "    def __init__(self, state_size, action_size, fc1_units=400, fc2_units=300):\n",
        "        super(SysModel, self).__init__()\n",
        "        self.l1 = nn.Linear(state_size + action_size, fc1_units)\n",
        "        self.l2 = nn.Linear(fc1_units, fc2_units)\n",
        "        self.l3 = nn.Linear(fc2_units, state_size)\n",
        "\n",
        "\n",
        "    def forward(self, state, action):\n",
        "        \"\"\"Build a system model to predict the next state at a given state.\"\"\"\n",
        "        xa = torch.cat([state, action], 1)\n",
        "\n",
        "        x1 = F.relu(self.l1(xa))\n",
        "        x1 = F.relu(self.l2(x1))\n",
        "        x1 = self.l3(x1)\n",
        "\n",
        "        return x1"
      ],
      "metadata": {
        "id": "r51Ay01Bv7oO"
      },
      "execution_count": null,
      "outputs": []
    },
    {
      "cell_type": "markdown",
      "source": [
        "# **4. Utility functions**"
      ],
      "metadata": {
        "id": "HC2jo1tEoufB"
      }
    },
    {
      "cell_type": "code",
      "source": [
        "def create_plot(scores, model_name, save_path, train=True, goal_line=200):\n",
        "    if train:\n",
        "        avg = []\n",
        "        for i in range(len(scores)):\n",
        "            j = 0 if i <= 99 else i - 99\n",
        "            avg.append(mean(scores[j:i+1]))\n",
        "\n",
        "    fig, axis = plt.subplots()\n",
        "    axis.clear()\n",
        "    axis.plot(scores, 'c', label='Score', alpha=0.7)\n",
        "    if train:\n",
        "        axis.plot(avg, 'orange', label='Average score (up to last 100 episodes)')\n",
        "    axis.axhline(300, c='gray', label='Goal', alpha=0.7)\n",
        "    axis.set_xlabel('Episodes')\n",
        "    axis.set_ylabel('Scores')\n",
        "    axis.legend(loc='lower right')\n",
        "    title = f'{model_name} Train' if train else f'{model_name} Test'\n",
        "    plt.title(title)\n",
        "\n",
        "    plt.savefig(save_path)\n",
        "    plt.show()\n",
        "    plt.close()"
      ],
      "metadata": {
        "id": "5XGGc5o0wdTI"
      },
      "execution_count": null,
      "outputs": []
    },
    {
      "cell_type": "markdown",
      "source": [
        "# **5. Agent**"
      ],
      "metadata": {
        "id": "SzdnzJpPolg1"
      }
    },
    {
      "cell_type": "code",
      "source": [
        "class TD3_FORK:\n",
        "    def __init__(self,name,env, load = False, gamma = 0.99, lr_actor = 3e-4,\n",
        "        lr_critic = 3e-4, lr_sysmodel = 3e-4, batch_size = 100,\n",
        "        buffer_capacity = 1000000, tau = 0.02, random_seed = np.random.randint(1,10000),\n",
        "        cuda = True, policy_noise=0.2, std_noise = 0.1, noise_clip=0.5, policy_freq=2\n",
        "    ):\n",
        "        self.device = torch.device(\"cuda\" if torch.cuda.is_available() else \"cpu\")\n",
        "        self.env = env\n",
        "        self.create_actor()\n",
        "        self.create_critic()\n",
        "        self.create_sysmodel()\n",
        "        self.act_opt = optim.Adam(self.actor.parameters(), lr=lr_actor)\n",
        "        self.crt_opt = optim.Adam(self.critic.parameters(), lr=lr_critic)\n",
        "        self.sys_opt = optim.Adam(self.sysmodel.parameters(), lr=lr_sysmodel)\n",
        "        self.set_weights()\n",
        "        self.replay_memory_buffer = deque(maxlen = buffer_capacity)\n",
        "        self.replay_memory_bufferd_dis = deque(maxlen = buffer_capacity)\n",
        "        self.batch_size = batch_size\n",
        "        self.tau = tau\n",
        "        self.policy_freq = policy_freq\n",
        "        self.gamma = gamma\n",
        "        self.name = name\n",
        "        self.upper_bound = self.env.action_space.high[0]\n",
        "        self.lower_bound = self.env.action_space.low[0]\n",
        "        self.obs_upper_bound = self.env.observation_space.high[0]\n",
        "        self.obs_lower_bound = self.env.observation_space.low[0]\n",
        "        self.policy_noise = policy_noise\n",
        "        self.noise_clip = noise_clip\n",
        "        self.std_noise = std_noise   \n",
        "\n",
        "        self.state_size = env.observation_space.shape[0]\n",
        "        self.action_space = env.action_space.shape[0]\n",
        "        self.seed = 88\n",
        " \n",
        "  \n",
        "\n",
        "    def create_actor(self):\n",
        "        params = [self.state_size, self.action_space, self.seed]\n",
        "        self.actor = Actor(*params).to(self.device)\n",
        "        self.actor_target = Actor(*params).to(self.device)\n",
        "\n",
        "    def create_critic(self):\n",
        "        params = [self.state_size, self.action_space, self.seed]\n",
        "        self.critic = Critic(*params).to(self.device)\n",
        "        self.critic_target = Critic(*params).to(self.device)\n",
        "\n",
        "    def create_sysmodel(self):\n",
        "        params = [self.state_size, self.action_space]\n",
        "        self.sysmodel = SysModel(*params).to(self.device)\n",
        "\n",
        "    def set_weights(self):\n",
        "        self.actor_target.load_state_dict(self.actor.state_dict())\n",
        "        self.critic_target.load_state_dict(self.critic.state_dict())\n",
        "\n",
        "    def add_to_replay_memory(self, transition, buffername):\n",
        "        buffername.append(transition)\n",
        "\n",
        "    def get_random_sample_from_replay_mem(self, buffername):\n",
        "        random_sample = random.sample(buffername, self.batch_size)\n",
        "        return random_sample\n",
        "\n",
        "\n",
        "    def learn_and_update_weights_by_replay(self,training_iterations, weight, totrain):\n",
        "        if len(self.replay_memory_buffer) < 1e4:\n",
        "            return 1\n",
        "        for it in range(training_iterations):\n",
        "            mini_batch = self.get_random_sample_from_replay_mem(self.replay_memory_buffer)\n",
        "            state_batch = torch.from_numpy(np.vstack([i[0] for i in mini_batch])).float().to(self.device)\n",
        "            action_batch = torch.from_numpy(np.vstack([i[1] for i in mini_batch])).float().to(self.device)\n",
        "            reward_batch = torch.from_numpy(np.vstack([i[2] for i in mini_batch])).float().to(self.device)\n",
        "            add_reward_batch = torch.from_numpy(np.vstack([i[3] for i in mini_batch])).float().to(self.device)\n",
        "            next_state_batch = torch.from_numpy(np.vstack([i[4] for i in mini_batch])).float().to(self.device)\n",
        "            done_list = torch.from_numpy(np.vstack([i[5] for i in mini_batch]).astype(np.uint8)).float().to(self.device)\n",
        "            \n",
        "            #Train Critic\n",
        "            target_actions = self.actor_target(next_state_batch)\n",
        "            offset_noises = torch.FloatTensor(action_batch.shape).data.normal_(0, self.policy_noise).to(self.device)\n",
        "\n",
        "            #clip noise\n",
        "            offset_noises = offset_noises.clamp(-self.noise_clip, self.noise_clip)\n",
        "            target_actions = (target_actions + offset_noises).clamp(self.lower_bound, self.upper_bound)\n",
        "\n",
        "            #Compute the target Q value\n",
        "            Q_targets1, Q_targets2 = self.critic_target(next_state_batch, target_actions)\n",
        "            Q_targets = torch.min(Q_targets1, Q_targets2)\n",
        "            Q_targets = reward_batch + self.gamma * Q_targets * (1 - done_list)\n",
        "\n",
        "            #Compute current Q estimates\n",
        "            current_Q1, current_Q2 = self.critic(state_batch, action_batch)\n",
        "            # Compute critic loss\n",
        "            critic_loss = F.mse_loss(current_Q1, Q_targets.detach()) + F.mse_loss(current_Q2, Q_targets.detach())\n",
        "            # Optimize the critic\n",
        "            self.crt_opt.zero_grad()\n",
        "            critic_loss.backward()\n",
        "            self.crt_opt.step()\n",
        "\n",
        "            self.soft_update_target(self.critic, self.critic_target)\n",
        "\n",
        "            #Train_sysmodel\n",
        "            predict_next_state = self.sysmodel(state_batch, action_batch) * (1-done_list)\n",
        "            next_state_batch = next_state_batch * (1 -done_list)\n",
        "            sysmodel_loss = F.mse_loss(predict_next_state, next_state_batch.detach())\n",
        "            self.sys_opt.zero_grad()\n",
        "            sysmodel_loss.backward()\n",
        "            self.sys_opt.step()\n",
        "        \n",
        "            s_flag = 1 if sysmodel_loss.item() < 0.020  else 0\n",
        "\n",
        "            #Train Actor\n",
        "            # Delayed policy updates\n",
        "            if it % self.policy_freq == 0 and totrain == 1:\n",
        "                actions = self.actor(state_batch)\n",
        "                actor_loss1,_ = self.critic_target(state_batch, actions)\n",
        "                actor_loss1 =  actor_loss1.mean()\n",
        "                actor_loss =  - actor_loss1 \n",
        "\n",
        "                if s_flag == 1:\n",
        "                    p_actions = self.actor(state_batch)\n",
        "                    p_next_state = self.sysmodel(state_batch, p_actions).clamp(self.obs_lower_bound,self.obs_upper_bound)\n",
        "\n",
        "                    p_actions2 = self.actor(p_next_state.detach()) * self.upper_bound\n",
        "                    actor_loss2,_ = self.critic_target(p_next_state.detach(), p_actions2)\n",
        "                    actor_loss2 = actor_loss2.mean() \n",
        "\n",
        "                    p_next_state2= self.sysmodel(p_next_state.detach(), p_actions2).clamp(self.obs_lower_bound,self.obs_upper_bound)\n",
        "                    p_actions3 = self.actor(p_next_state2.detach()) * self.upper_bound\n",
        "                    actor_loss3,_ = self.critic_target(p_next_state2.detach(), p_actions3)\n",
        "                    actor_loss3 = actor_loss3.mean() \n",
        "\n",
        "                    actor_loss_final =  actor_loss - weight * (actor_loss2) - 0.5 *  weight * actor_loss3\n",
        "                else:\n",
        "                    actor_loss_final =  actor_loss\n",
        "\n",
        "                self.act_opt.zero_grad()\n",
        "                actor_loss_final.backward()\n",
        "                self.act_opt.step()\n",
        "\n",
        "                #Soft update target models\n",
        "               \n",
        "                self.soft_update_target(self.actor, self.actor_target)\n",
        "                \n",
        "        return sysmodel_loss.item()\n",
        "\n",
        "    def soft_update_target(self,local_model,target_model):\n",
        "        for target_param, local_param in zip(target_model.parameters(), local_model.parameters()):\n",
        "            target_param.data.copy_(self.tau*local_param.data + (1.0-self.tau)*target_param.data)\n",
        "\n",
        "    def policy(self,state):\n",
        "        \"\"\"select action based on ACTOR\"\"\"\n",
        "        state = torch.from_numpy(state).float().unsqueeze(0).to(self.device)\n",
        "        self.actor.eval()\n",
        "        with torch.no_grad():\n",
        "            actions = self.actor(state).cpu().data.numpy()\n",
        "        self.actor.train()\n",
        "        # Adding noise to action\n",
        "        shift_action = np.random.normal(0, self.std_noise, size=self.env.action_space.shape[0])\n",
        "        sampled_actions = (actions + shift_action)\n",
        "        # We make sure action is within bounds\n",
        "        legal_action = np.clip(sampled_actions,self.lower_bound,self.upper_bound)\n",
        "        return np.squeeze(legal_action)\n",
        "\n",
        "\n",
        "    def select_action(self,state):\n",
        "        \"\"\"select action based on ACTOR\"\"\"\n",
        "        state = torch.from_numpy(state).float().unsqueeze(0).to(self.device)\n",
        "        with torch.no_grad():\n",
        "            actions = self.actor_target(state).cpu().data.numpy()\n",
        "        return np.squeeze(actions)\n",
        "    \n",
        "\n",
        "    def eval_policy(self, env_name, seed, eval_episodes):\n",
        "        eval_env = env_name\n",
        "        eval_env.seed(seed + 100)\n",
        "\n",
        "        avg_reward = 0.\n",
        "        scores_list = []\n",
        "        for _ in range(eval_episodes):\n",
        "            score = 0\n",
        "            eval_env = wrap_env(eval_env)  #todo: check\n",
        "            state, done = eval_env.reset(), False           \n",
        "            while not done:\n",
        "                action = self.select_action(np.array(state))\n",
        "                state, reward, done, _ = eval_env.step(action)\n",
        "                avg_reward += reward\n",
        "                score += reward\n",
        "            scores_list.append(score)\n",
        "        avg_reward /= eval_episodes\n",
        "\n",
        "        print(\"---------------------------------------\")\n",
        "        print(f\"Evaluation over {eval_episodes} episodes: {avg_reward:.3f}\")\n",
        "        print(\"---------------------------------------\")\n",
        "        return avg_reward, scores_list\n",
        "\n"
      ],
      "metadata": {
        "id": "4vtsmQncv7vl"
      },
      "execution_count": null,
      "outputs": []
    },
    {
      "cell_type": "markdown",
      "source": [
        "# **6. Main**"
      ],
      "metadata": {
        "id": "TJarJPTbo3xm"
      }
    },
    {
      "cell_type": "code",
      "source": [
        "\"\"\"Training the agent\"\"\"\n",
        "gym.logger.set_level(40)\n",
        "max_steps = 3000\n",
        "falling_down = 0\n",
        "\n",
        "\n",
        "if __name__ == '__main__':\n",
        "    env = gym.make('BipedalWalkerHardcore-v3')\n",
        "    agent = TD3_FORK('Bipedalhardcore', env, batch_size = 100)\n",
        "    total_episodes = 100000\n",
        "    start_timestep=0            #time_step to select action based on Actor\n",
        "    time_start = time.time()        # Init start time\n",
        "    ep_reward_list = []\n",
        "    avg_reward_list = []\n",
        "    total_timesteps = 0\n",
        "    sys_loss = 0\n",
        "    numtrainedexp = 0\n",
        "    save_time = 0\n",
        "    expcount = 0\n",
        "    totrain = 0\n",
        "\n",
        "    for ep in range(total_episodes):\n",
        "        state = env.reset()\n",
        "        episodic_reward = 0\n",
        "        timestep = 0\n",
        "        temp_replay_buffer = []\n",
        "\n",
        "        for st in range(max_steps):\n",
        "\n",
        "            # Select action randomly or according to policy\n",
        "            if total_timesteps < start_timestep:\n",
        "                action = env.action_space.sample()\n",
        "            else:\n",
        "                action = agent.policy(state)\n",
        "\n",
        "            # Recieve state and reward from environment.\n",
        "            next_state, reward, done, info = env.step(action)\n",
        "            #change original reward from -100 to -5 and 5*reward for other values\n",
        "            episodic_reward += reward\n",
        "            if reward == -100:\n",
        "                add_reward = -1\n",
        "                reward = -5\n",
        "                falling_down += 1\n",
        "                expcount += 1\n",
        "            else:\n",
        "                add_reward = 0\n",
        "                reward = 5 * reward\n",
        "\n",
        "            temp_replay_buffer.append((state, action, reward, add_reward, next_state, done))\n",
        "            \n",
        "            # End this episode when `done` is True\n",
        "            if done:\n",
        "                if add_reward == -1 or episodic_reward < 250:            \n",
        "                    totrain = 1\n",
        "                    for temp in temp_replay_buffer: \n",
        "                        agent.add_to_replay_memory(temp, agent.replay_memory_buffer)\n",
        "                elif expcount > 0 and np.random.rand() > 0.5:\n",
        "                    totrain = 1\n",
        "                    expcount -= 10\n",
        "                    for temp in temp_replay_buffer: \n",
        "                        agent.add_to_replay_memory(temp, agent.replay_memory_buffer)\n",
        "                break\n",
        "            state = next_state\n",
        "            timestep += 1     \n",
        "            total_timesteps += 1\n",
        "\n",
        "        ep_reward_list.append(episodic_reward)\n",
        "        # Mean of last 100 episodes\n",
        "        avg_reward = np.mean(ep_reward_list[-100:])\n",
        "        avg_reward_list.append(avg_reward)\n",
        "\n",
        "        if avg_reward > 294:\n",
        "            test_reward, _ = agent.eval_policy(env, seed=88, eval_episodes=10)\n",
        "            if test_reward > 300:\n",
        "                final_test_reward, test_reward_list = agent.eval_policy(env, seed=88, eval_episodes=100)\n",
        "                if final_test_reward > 300:\n",
        "                    create_plot(ep_reward_list, model_name='HardCore', save_path='HardCore Train.png', goal_line=300)\n",
        "                    create_plot(test_reward_list, model_name='HardCore', save_path='HardCore Test.png', train=False, goal_line=300)\n",
        "                    show_video()\n",
        "                    print(\"===========================\")\n",
        "                    print('Task Solved')\n",
        "                    print(\"===========================\")\n",
        "                    break\n",
        "                    \n",
        "        s = (int)(time.time() - time_start)\n",
        "       \n",
        "        #Training agent only when new experiences are added to the replay buffer\n",
        "        weight =  1 - np.clip(np.mean(ep_reward_list[-100:])/300, 0, 1)\n",
        "        if totrain == 1:\n",
        "            sys_loss = agent.learn_and_update_weights_by_replay(timestep, weight, totrain)\n",
        "        else: \n",
        "            sys_loss = agent.learn_and_update_weights_by_replay(100, weight, totrain)\n",
        "        totrain = 0\n",
        "\n",
        "        print(f'Episode {ep}, Episode reward {episodic_reward:.2f}, Avg reward {avg_reward}')"
      ],
      "metadata": {
        "id": "k-tgTzcEv74M"
      },
      "execution_count": null,
      "outputs": []
    }
  ]
}